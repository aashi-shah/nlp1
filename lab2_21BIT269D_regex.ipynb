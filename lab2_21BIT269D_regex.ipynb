{
  "nbformat": 4,
  "nbformat_minor": 0,
  "metadata": {
    "colab": {
      "provenance": []
    },
    "kernelspec": {
      "name": "python3",
      "display_name": "Python 3"
    },
    "language_info": {
      "name": "python"
    }
  },
  "cells": [
    {
      "cell_type": "markdown",
      "source": [
        "**Aashi** Shah - 21BIT269D\n",
        "\n",
        "Div 1 - H2\n",
        "\n",
        "**Experiment 1 :** To work with Regular Expression with python"
      ],
      "metadata": {
        "id": "xBsfdag0hf7M"
      }
    },
    {
      "cell_type": "code",
      "execution_count": null,
      "metadata": {
        "colab": {
          "base_uri": "https://localhost:8080/"
        },
        "id": "97WSUFYRQoOL",
        "outputId": "f87775be-b9e6-48e3-b079-f8c57b9158af"
      },
      "outputs": [
        {
          "output_type": "execute_result",
          "data": {
            "text/plain": [
              "['5739275029']"
            ]
          },
          "metadata": {},
          "execution_count": 1
        }
      ],
      "source": [
        "import re\n",
        "\n",
        "chat1='Zomato: Hello, I am having an issue with the pizza I ordered my orderID is # 5739275029'\n",
        "pattern = 'order[^\\d]*(\\d*)'\n",
        "matches = re.findall(pattern, chat1)\n",
        "matches"
      ]
    },
    {
      "cell_type": "code",
      "source": [
        "chat2='I have a problem with my order number 2840285673'\n",
        "pattern = 'order[^\\d]*(\\d*)'\n",
        "matches = re.findall(pattern, chat2)\n",
        "matches"
      ],
      "metadata": {
        "colab": {
          "base_uri": "https://localhost:8080/"
        },
        "id": "ysRfKpy5Zp_8",
        "outputId": "c3df50fc-2883-4686-a247-20e53f910d5a"
      },
      "execution_count": null,
      "outputs": [
        {
          "output_type": "execute_result",
          "data": {
            "text/plain": [
              "['2840285673']"
            ]
          },
          "metadata": {},
          "execution_count": 14
        }
      ]
    },
    {
      "cell_type": "code",
      "source": [
        "chat3='Nykaa: My order 137957305 is having an issue, I was charged 500$ when online it says 450$'\n",
        "pattern = 'order[^\\d]*(\\d*)'\n",
        "matches = re.findall(pattern, chat3)\n",
        "matches"
      ],
      "metadata": {
        "colab": {
          "base_uri": "https://localhost:8080/"
        },
        "id": "UQU_2vphZ5i3",
        "outputId": "bdcb536c-c580-4ab1-d01e-da2a7d6f0f5a"
      },
      "execution_count": null,
      "outputs": [
        {
          "output_type": "execute_result",
          "data": {
            "text/plain": [
              "['137957305']"
            ]
          },
          "metadata": {},
          "execution_count": 15
        }
      ]
    },
    {
      "cell_type": "code",
      "source": [
        "def get_pattern_match(pattern, text):\n",
        "    matches = re.findall(pattern, text)\n",
        "    if matches:\n",
        "        return matches[0]"
      ],
      "metadata": {
        "id": "j5LvcMj4a1LA"
      },
      "execution_count": null,
      "outputs": []
    },
    {
      "cell_type": "code",
      "source": [
        "get_pattern_match('order[^\\d]*(\\d*)', chat1)"
      ],
      "metadata": {
        "colab": {
          "base_uri": "https://localhost:8080/",
          "height": 36
        },
        "id": "gPYKNrhRbAQy",
        "outputId": "502deec0-297d-4357-b1e0-1f44a08036bb"
      },
      "execution_count": null,
      "outputs": [
        {
          "output_type": "execute_result",
          "data": {
            "text/plain": [
              "'5739275029'"
            ],
            "application/vnd.google.colaboratory.intrinsic+json": {
              "type": "string"
            }
          },
          "metadata": {},
          "execution_count": 17
        }
      ]
    },
    {
      "cell_type": "code",
      "source": [
        "chat1 = 'This is your order number 1235678912, aashi12e@gmail.com'\n",
        "chat2 = 'contact us: (61)-123-234563, aashi12e@gmail.com'\n",
        "chat3 = 'Hello, phone: 5368952167 email: aashi12e@gmail.com'"
      ],
      "metadata": {
        "id": "43R53nMzbCxs"
      },
      "execution_count": null,
      "outputs": []
    },
    {
      "cell_type": "code",
      "source": [
        "get_pattern_match('[a-zA-Z0-9_.]*@[a-z]*\\.[a-zA-Z0-9]*',chat1)"
      ],
      "metadata": {
        "colab": {
          "base_uri": "https://localhost:8080/",
          "height": 36
        },
        "id": "pOXi-8smbqNG",
        "outputId": "16be300d-5c5b-4bdf-b268-2d798bd053cf"
      },
      "execution_count": null,
      "outputs": [
        {
          "output_type": "execute_result",
          "data": {
            "text/plain": [
              "'aashi12e@gmail.com'"
            ],
            "application/vnd.google.colaboratory.intrinsic+json": {
              "type": "string"
            }
          },
          "metadata": {},
          "execution_count": 19
        }
      ]
    },
    {
      "cell_type": "code",
      "source": [
        "get_pattern_match('[a-zA-Z0-9_.]*@[a-z]*\\.[a-zA-Z0-9]*',chat2)"
      ],
      "metadata": {
        "colab": {
          "base_uri": "https://localhost:8080/",
          "height": 36
        },
        "id": "vbo66xEZbssp",
        "outputId": "bd4ba4bb-0d68-44d8-e209-e171aa7ff97f"
      },
      "execution_count": null,
      "outputs": [
        {
          "output_type": "execute_result",
          "data": {
            "text/plain": [
              "'aashi12e@gmail.com'"
            ],
            "application/vnd.google.colaboratory.intrinsic+json": {
              "type": "string"
            }
          },
          "metadata": {},
          "execution_count": 20
        }
      ]
    },
    {
      "cell_type": "code",
      "source": [
        "get_pattern_match('[a-zA-Z0-9_.]*@[a-z]*\\.[a-zA-Z0-9]*',chat3)"
      ],
      "metadata": {
        "colab": {
          "base_uri": "https://localhost:8080/",
          "height": 36
        },
        "id": "wpfdoxtRbvB2",
        "outputId": "ead5a17e-aed8-430c-b982-cf0e3b615e01"
      },
      "execution_count": null,
      "outputs": [
        {
          "output_type": "execute_result",
          "data": {
            "text/plain": [
              "'aashi12e@gmail.com'"
            ],
            "application/vnd.google.colaboratory.intrinsic+json": {
              "type": "string"
            }
          },
          "metadata": {},
          "execution_count": 21
        }
      ]
    },
    {
      "cell_type": "code",
      "source": [
        "get_pattern_match('(\\d{10})|(\\(\\d{3}\\)-\\d{3}-\\d{4})',chat1)"
      ],
      "metadata": {
        "colab": {
          "base_uri": "https://localhost:8080/"
        },
        "id": "dnwbOFX_bw9M",
        "outputId": "57356a2c-07f9-4abb-b5d8-f8fcd08d85c1"
      },
      "execution_count": null,
      "outputs": [
        {
          "output_type": "execute_result",
          "data": {
            "text/plain": [
              "('1235678912', '')"
            ]
          },
          "metadata": {},
          "execution_count": 22
        }
      ]
    },
    {
      "cell_type": "code",
      "source": [
        "get_pattern_match('(\\d{10})|(\\(\\d{2}\\)-\\d{3}-\\d{4})', chat2)"
      ],
      "metadata": {
        "colab": {
          "base_uri": "https://localhost:8080/"
        },
        "id": "OfzlFNAbbypy",
        "outputId": "1c27c68b-1d88-4e23-da2b-339a97028a8e"
      },
      "execution_count": null,
      "outputs": [
        {
          "output_type": "execute_result",
          "data": {
            "text/plain": [
              "('', '(61)-123-2345')"
            ]
          },
          "metadata": {},
          "execution_count": 24
        }
      ]
    },
    {
      "cell_type": "code",
      "source": [
        "get_pattern_match('(\\d{10})|(\\(\\d{5}\\)-\\d{3}-\\d{4})', chat3)"
      ],
      "metadata": {
        "colab": {
          "base_uri": "https://localhost:8080/"
        },
        "id": "MbVrri_9b2CL",
        "outputId": "3e6ba44c-0794-4e4e-ea70-910c0488786e"
      },
      "execution_count": null,
      "outputs": [
        {
          "output_type": "execute_result",
          "data": {
            "text/plain": [
              "('5368952167', '')"
            ]
          },
          "metadata": {},
          "execution_count": 29
        }
      ]
    },
    {
      "cell_type": "code",
      "source": [
        "text = '''\n",
        "Formula 1 is where million-dollar cars race around in circles,\n",
        "burning rubber and cash while drivers try to avoid turning their expensive toys into scrap metal.\n",
        "It's basically a high-speed game of \"who can complain the loudest about tire choices.\"\n",
        "Enjoy the show! https://x.com/F1\n",
        "https://x.com/redbullracing\n",
        "https://x.com/MercedesAMGF1\n",
        "https://x.com/ScuderiaFerrari\n",
        "\n",
        "'''\n",
        "pattern = 'https://x\\.com/([a-zA-Z0-9_]+)'\n",
        "\n",
        "re.findall(pattern, text)"
      ],
      "metadata": {
        "colab": {
          "base_uri": "https://localhost:8080/"
        },
        "id": "eu0X50PPb-9L",
        "outputId": "f773e79b-848e-4db3-b25c-153def3672c8"
      },
      "execution_count": null,
      "outputs": [
        {
          "output_type": "execute_result",
          "data": {
            "text/plain": [
              "['F1', 'redbullracing', 'MercedesAMGF1', 'ScuderiaFerrari']"
            ]
          },
          "metadata": {},
          "execution_count": 31
        }
      ]
    },
    {
      "cell_type": "code",
      "source": [
        "text = '''\n",
        "F1 Team : Red Bull Racing\n",
        "They're so fast you'd think they installed a jet engine instead of a hybrid one.\n",
        "Their biggest challenge? Finding room for all those trophies.\n",
        "\n",
        "F1 Team : Mercedes-AMG Petronas\n",
        "Once the kings of F1, now they're just trying to figure out why their silver arrows aren't as sharp.\n",
        "Still, they make a pretty good backup plan for the podium.\n",
        "\n",
        "F1 Team : Scuderia Ferrari\n",
        "Ferrari continues to blend nostalgia with heartbreak.\n",
        "They might not win every race, but at least their fans have perfected the art of \"maybe next year.\"\n",
        "'''\n",
        "pattern = 'F1 Team : ([^\\n]*)'\n",
        "\n",
        "re.findall(pattern, text)"
      ],
      "metadata": {
        "colab": {
          "base_uri": "https://localhost:8080/"
        },
        "id": "RtwAZYLLdfdy",
        "outputId": "23c3eff5-89a8-4a52-d5f1-4af9424aa1eb"
      },
      "execution_count": null,
      "outputs": [
        {
          "output_type": "execute_result",
          "data": {
            "text/plain": [
              "['Red Bull Racing', 'Mercedes-AMG Petronas', 'Scuderia Ferrari']"
            ]
          },
          "metadata": {},
          "execution_count": 33
        }
      ]
    },
    {
      "cell_type": "code",
      "source": [
        "text = '''\n",
        "As of the FY2024 Q2,\n",
        "Formula 1 reported strong financial performance,\n",
        "with a 20% increase in total revenue compared to the same period in FY2023.\n",
        "This growth was driven by additional races, higher media rights fees,\n",
        "and sponsorship revenues.\n",
        "Despite missing earnings per share (EPS) estimates,\n",
        "the overall revenue exceeded expectations, reaching nearly $988 million.\n",
        "'''\n",
        "\n",
        "pattern = 'FY(\\d{4} (?:Q[1-4]))'\n",
        "matches = re.findall(pattern, text)\n",
        "matches"
      ],
      "metadata": {
        "colab": {
          "base_uri": "https://localhost:8080/"
        },
        "id": "AmyyUI58ekNp",
        "outputId": "e067dbee-073a-4f12-c331-066ad1e5dde4"
      },
      "execution_count": null,
      "outputs": [
        {
          "output_type": "execute_result",
          "data": {
            "text/plain": [
              "['2024 Q2']"
            ]
          },
          "metadata": {},
          "execution_count": 43
        }
      ]
    },
    {
      "cell_type": "code",
      "source": [],
      "metadata": {
        "id": "WlK2-dzKgBSj"
      },
      "execution_count": null,
      "outputs": []
    }
  ]
}